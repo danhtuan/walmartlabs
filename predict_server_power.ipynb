{
 "cells": [
  {
   "cell_type": "markdown",
   "metadata": {},
   "source": [
    "# Predicting Server Power Usage\n",
    "\n",
    "This is my showcase for @WalmartLabs System Engineering Intern Summer 2018\n",
    "## Dataset\n",
    "\n",
    "Data Source: From the authors of paper https://www.usenix.org/legacy/event/hotpower08/tech/full_papers/rivoire/rivoire.pdf\n",
    "\n",
    "## Description of Variables\n",
    "\n",
    "The dataset contains 31272 observations of 10 variables:\n",
    "* `_time`:  time of measurement\n",
    "* `ac_power`: AC Power usage\n",
    "* `total-unhalted_core_cycles`: as its name\n",
    "* `total-instructions_retired`: as its name\n",
    "* `total-last_level_cache_references`: as its name\n",
    "* `total-memory_bus_transactions`: as its name\n",
    "* `total-cpu-utilization`: as its name\n",
    "* `total-disk-accesses`: as its name\n",
    "* `total-disk-blocks`: as its name\n",
    "* `total-disk-utilization`: as its name\n",
    "\n",
    "## Problem Statement\n",
    "\n",
    "I want to predict the power utilization of a machine based on other machine metrics such as CPU utilization and memory transactions."
   ]
  },
  {
   "cell_type": "markdown",
   "metadata": {},
   "source": [
    "## Import modules"
   ]
  },
  {
   "cell_type": "code",
   "execution_count": 238,
   "metadata": {},
   "outputs": [],
   "source": [
    "import numpy as np\n",
    "import pandas as pd\n",
    "import matplotlib.pyplot as plt\n",
    "from patsy import dmatrices\n",
    "from sklearn.linear_model import LinearRegression\n",
    "from sklearn.cross_validation import train_test_split\n",
    "from sklearn import metrics\n",
    "from sklearn.model_selection import cross_val_score"
   ]
  },
  {
   "cell_type": "markdown",
   "metadata": {},
   "source": [
    "## Data Pre-Processing\n",
    "\n",
    "First, let's load the dataset and do some \"touch\""
   ]
  },
  {
   "cell_type": "code",
   "execution_count": 202,
   "metadata": {
    "scrolled": true
   },
   "outputs": [
    {
     "name": "stdout",
     "output_type": "stream",
     "text": [
      "Index([u'_time', u'ac_power', u'total-unhalted_core_cycles',\n",
      "       u'total-instructions_retired', u'total-last_level_cache_references',\n",
      "       u'total-memory_bus_transactions', u'total-cpu-utilization',\n",
      "       u'total-disk-accesses', u'total-disk-blocks',\n",
      "       u'total-disk-utilization'],\n",
      "      dtype='object')\n",
      "_time                                31272\n",
      "ac_power                             31272\n",
      "total-unhalted_core_cycles           31272\n",
      "total-instructions_retired           31272\n",
      "total-last_level_cache_references    31272\n",
      "total-memory_bus_transactions        31272\n",
      "total-cpu-utilization                31271\n",
      "total-disk-accesses                  31272\n",
      "total-disk-blocks                    31272\n",
      "total-disk-utilization               31272\n",
      "dtype: int64\n"
     ]
    }
   ],
   "source": [
    "# load dataset\n",
    "df = pd.read_csv(\"data/server_power.csv\")\n",
    "print df.columns\n",
    "print df.count()"
   ]
  },
  {
   "cell_type": "code",
   "execution_count": 204,
   "metadata": {},
   "outputs": [
    {
     "data": {
      "text/html": [
       "<div>\n",
       "<style scoped>\n",
       "    .dataframe tbody tr th:only-of-type {\n",
       "        vertical-align: middle;\n",
       "    }\n",
       "\n",
       "    .dataframe tbody tr th {\n",
       "        vertical-align: top;\n",
       "    }\n",
       "\n",
       "    .dataframe thead th {\n",
       "        text-align: right;\n",
       "    }\n",
       "</style>\n",
       "<table border=\"1\" class=\"dataframe\">\n",
       "  <thead>\n",
       "    <tr style=\"text-align: right;\">\n",
       "      <th></th>\n",
       "      <th>_time</th>\n",
       "      <th>ac_power</th>\n",
       "      <th>total-unhalted_core_cycles</th>\n",
       "      <th>total-instructions_retired</th>\n",
       "      <th>total-last_level_cache_references</th>\n",
       "      <th>total-memory_bus_transactions</th>\n",
       "      <th>total-cpu-utilization</th>\n",
       "      <th>total-disk-accesses</th>\n",
       "      <th>total-disk-blocks</th>\n",
       "      <th>total-disk-utilization</th>\n",
       "    </tr>\n",
       "  </thead>\n",
       "  <tbody>\n",
       "    <tr>\n",
       "      <th>0</th>\n",
       "      <td>13:51:28 2008-Apr-14</td>\n",
       "      <td>220.0</td>\n",
       "      <td>4708152.0</td>\n",
       "      <td>3924639.0</td>\n",
       "      <td>75140.0</td>\n",
       "      <td>5130.0</td>\n",
       "      <td>0.99</td>\n",
       "      <td>0.00</td>\n",
       "      <td>0.00</td>\n",
       "      <td>0.00</td>\n",
       "    </tr>\n",
       "    <tr>\n",
       "      <th>1</th>\n",
       "      <td>13:51:29 2008-Apr-14</td>\n",
       "      <td>220.0</td>\n",
       "      <td>40827356.0</td>\n",
       "      <td>28433358.0</td>\n",
       "      <td>590082.0</td>\n",
       "      <td>180003.0</td>\n",
       "      <td>1.15</td>\n",
       "      <td>5.49</td>\n",
       "      <td>214.63</td>\n",
       "      <td>3.66</td>\n",
       "    </tr>\n",
       "    <tr>\n",
       "      <th>2</th>\n",
       "      <td>13:51:30 2008-Apr-14</td>\n",
       "      <td>223.0</td>\n",
       "      <td>21717729.0</td>\n",
       "      <td>10417228.0</td>\n",
       "      <td>360018.0</td>\n",
       "      <td>111197.0</td>\n",
       "      <td>0.99</td>\n",
       "      <td>30.43</td>\n",
       "      <td>817.39</td>\n",
       "      <td>30.43</td>\n",
       "    </tr>\n",
       "    <tr>\n",
       "      <th>3</th>\n",
       "      <td>13:51:31 2008-Apr-14</td>\n",
       "      <td>220.0</td>\n",
       "      <td>5042548.0</td>\n",
       "      <td>3985700.0</td>\n",
       "      <td>80619.0</td>\n",
       "      <td>9450.0</td>\n",
       "      <td>0.00</td>\n",
       "      <td>0.00</td>\n",
       "      <td>0.00</td>\n",
       "      <td>0.00</td>\n",
       "    </tr>\n",
       "    <tr>\n",
       "      <th>4</th>\n",
       "      <td>13:51:32 2008-Apr-14</td>\n",
       "      <td>220.0</td>\n",
       "      <td>4418062.0</td>\n",
       "      <td>3788243.0</td>\n",
       "      <td>68477.0</td>\n",
       "      <td>3582.0</td>\n",
       "      <td>0.99</td>\n",
       "      <td>0.00</td>\n",
       "      <td>0.00</td>\n",
       "      <td>0.00</td>\n",
       "    </tr>\n",
       "  </tbody>\n",
       "</table>\n",
       "</div>"
      ],
      "text/plain": [
       "                  _time  ac_power  total-unhalted_core_cycles  \\\n",
       "0  13:51:28 2008-Apr-14     220.0                   4708152.0   \n",
       "1  13:51:29 2008-Apr-14     220.0                  40827356.0   \n",
       "2  13:51:30 2008-Apr-14     223.0                  21717729.0   \n",
       "3  13:51:31 2008-Apr-14     220.0                   5042548.0   \n",
       "4  13:51:32 2008-Apr-14     220.0                   4418062.0   \n",
       "\n",
       "   total-instructions_retired  total-last_level_cache_references  \\\n",
       "0                   3924639.0                            75140.0   \n",
       "1                  28433358.0                           590082.0   \n",
       "2                  10417228.0                           360018.0   \n",
       "3                   3985700.0                            80619.0   \n",
       "4                   3788243.0                            68477.0   \n",
       "\n",
       "   total-memory_bus_transactions  total-cpu-utilization  total-disk-accesses  \\\n",
       "0                         5130.0                   0.99                 0.00   \n",
       "1                       180003.0                   1.15                 5.49   \n",
       "2                       111197.0                   0.99                30.43   \n",
       "3                         9450.0                   0.00                 0.00   \n",
       "4                         3582.0                   0.99                 0.00   \n",
       "\n",
       "   total-disk-blocks  total-disk-utilization  \n",
       "0               0.00                    0.00  \n",
       "1             214.63                    3.66  \n",
       "2             817.39                   30.43  \n",
       "3               0.00                    0.00  \n",
       "4               0.00                    0.00  "
      ]
     },
     "execution_count": 204,
     "metadata": {},
     "output_type": "execute_result"
    }
   ],
   "source": [
    "df.head()"
   ]
  },
  {
   "cell_type": "code",
   "execution_count": 207,
   "metadata": {},
   "outputs": [
    {
     "data": {
      "text/plain": [
       "_time                                0\n",
       "ac_power                             0\n",
       "total-unhalted_core_cycles           0\n",
       "total-instructions_retired           0\n",
       "total-last_level_cache_references    0\n",
       "total-memory_bus_transactions        0\n",
       "total-cpu-utilization                1\n",
       "total-disk-accesses                  0\n",
       "total-disk-blocks                    0\n",
       "total-disk-utilization               0\n",
       "dtype: int64"
      ]
     },
     "execution_count": 207,
     "metadata": {},
     "output_type": "execute_result"
    }
   ],
   "source": [
    "df.isnull().sum()"
   ]
  },
  {
   "cell_type": "markdown",
   "metadata": {},
   "source": [
    "There is a NULL value in `total_cpu_utilization` feature. We can impute that value by its feature mean"
   ]
  },
  {
   "cell_type": "code",
   "execution_count": 208,
   "metadata": {},
   "outputs": [
    {
     "data": {
      "text/plain": [
       "_time                                0\n",
       "ac_power                             0\n",
       "total-unhalted_core_cycles           0\n",
       "total-instructions_retired           0\n",
       "total-last_level_cache_references    0\n",
       "total-memory_bus_transactions        0\n",
       "total-cpu-utilization                0\n",
       "total-disk-accesses                  0\n",
       "total-disk-blocks                    0\n",
       "total-disk-utilization               0\n",
       "dtype: int64"
      ]
     },
     "execution_count": 208,
     "metadata": {},
     "output_type": "execute_result"
    }
   ],
   "source": [
    "from sklearn.preprocessing import Imputer\n",
    "# Impute the null value by mean of the column\n",
    "imp = Imputer(missing_values='NaN', strategy='mean', axis=0)\n",
    "\n",
    "df[['total-cpu-utilization']] = imp.fit_transform(df[['total-cpu-utilization']])\n",
    "df.isnull().sum()"
   ]
  },
  {
   "cell_type": "markdown",
   "metadata": {},
   "source": [
    "## Data Exploration & Visualization"
   ]
  },
  {
   "cell_type": "code",
   "execution_count": 210,
   "metadata": {},
   "outputs": [],
   "source": [
    "# show plots in the notebook\n",
    "%matplotlib inline"
   ]
  },
  {
   "cell_type": "markdown",
   "metadata": {},
   "source": [
    "Let's start with histograms of AC Power"
   ]
  },
  {
   "cell_type": "code",
   "execution_count": 211,
   "metadata": {
    "scrolled": true
   },
   "outputs": [
    {
     "data": {
      "text/plain": [
       "Text(0,0.5,u'Frequency')"
      ]
     },
     "execution_count": 211,
     "metadata": {},
     "output_type": "execute_result"
    },
    {
     "data": {
      "image/png": "[encoded data removed]",
      "text/plain": [
       "<matplotlib.figure.Figure at 0x1a158135d0>"
      ]
     },
     "metadata": {},
     "output_type": "display_data"
    }
   ],
   "source": [
    "#Histogram of ac_power\n",
    "df.ac_power.hist()\n",
    "plt.title('Histogram of AC Power')\n",
    "plt.xlabel('Power')\n",
    "plt.ylabel('Frequency')"
   ]
  },
  {
   "cell_type": "code",
   "execution_count": 231,
   "metadata": {},
   "outputs": [
    {
     "name": "stdout",
     "output_type": "stream",
     "text": [
      "Index([u'ac_power', u'total-unhalted_core_cycles',\n",
      "       u'total-instructions_retired', u'total-last_level_cache_references',\n",
      "       u'total-memory_bus_transactions', u'total-cpu-utilization',\n",
      "       u'total-disk-accesses', u'total-disk-blocks',\n",
      "       u'total-disk-utilization'],\n",
      "      dtype='object')\n"
     ]
    }
   ],
   "source": [
    "dfgb = df.groupby('ac_power').mean().reset_index()\n",
    "print dfgb.columns"
   ]
  },
  {
   "cell_type": "code",
   "execution_count": 233,
   "metadata": {},
   "outputs": [
    {
     "data": {
      "text/plain": [
       "Text(0.5,0,u'CPU Utilization')"
      ]
     },
     "execution_count": 233,
     "metadata": {},
     "output_type": "execute_result"
    },
    {
     "data": {
      "image/png": "[encoded data removed]",
      "text/plain": [
       "<matplotlib.figure.Figure at 0x10b30f690>"
      ]
     },
     "metadata": {},
     "output_type": "display_data"
    }
   ],
   "source": [
    "plt.plot(dfgb[['total-cpu-utilization']], dfgb[['ac_power']])\n",
    "plt.title('ac_power vs. total-cpu-utilization')\n",
    "plt.ylabel('Power')\n",
    "plt.xlabel('CPU Utilization')"
   ]
  },
  {
   "cell_type": "markdown",
   "metadata": {},
   "source": [
    "We can see a correlation between CPU Utilization and Power Consumption and it suggests that total-cpu-utilization is a feature to be taken into account"
   ]
  },
  {
   "cell_type": "code",
   "execution_count": 237,
   "metadata": {},
   "outputs": [
    {
     "data": {
      "text/plain": [
       "Text(0.5,0,u'total-memory_bus_transactions')"
      ]
     },
     "execution_count": 237,
     "metadata": {},
     "output_type": "execute_result"
    },
    {
     "data": {
      "image/png": "[encoded data removed]",
      "text/plain": [
       "<matplotlib.figure.Figure at 0x1a1c74fd90>"
      ]
     },
     "metadata": {},
     "output_type": "display_data"
    }
   ],
   "source": [
    "plt.plot(dfgb[['total-memory_bus_transactions']], dfgb[['ac_power']])\n",
    "plt.title('ac_power vs. total-memory_bus_transactions')\n",
    "plt.ylabel('Power')\n",
    "plt.xlabel('total-memory_bus_transactions')"
   ]
  },
  {
   "cell_type": "markdown",
   "metadata": {},
   "source": [
    "We can see a correlation between memory bus transaction and Power Consumption and it suggests that this is a feature to be taken into account"
   ]
  },
  {
   "cell_type": "markdown",
   "metadata": {},
   "source": [
    "## Linear Regression\n",
    "\n",
    "Let's go ahead and run linear regression on the entire data set, and see how accurate it is!"
   ]
  },
  {
   "cell_type": "code",
   "execution_count": 253,
   "metadata": {},
   "outputs": [],
   "source": [
    "#prepare data for regression\n",
    "X = df[['total-unhalted_core_cycles',\\\n",
    "        'total-instructions_retired',\\\n",
    "        'total-last_level_cache_references',\\\n",
    "        'total-memory_bus_transactions',\\\n",
    "        'total-cpu-utilization',\\\n",
    "        'total-disk-accesses',\\\n",
    "        'total-disk-blocks',\\\n",
    "        'total-disk-utilization']]\n",
    "y = np.ravel(df[['ac_power']])"
   ]
  },
  {
   "cell_type": "code",
   "execution_count": 249,
   "metadata": {},
   "outputs": [
    {
     "data": {
      "text/plain": [
       "0.948176992087879"
      ]
     },
     "execution_count": 249,
     "metadata": {},
     "output_type": "execute_result"
    }
   ],
   "source": [
    "# instantiate a logistic regression model, and fit with X and y\n",
    "model = LinearRegression()\n",
    "model = model.fit(X, y)\n",
    "# check the accuracy on the training set\n",
    "model.score(X, y)"
   ]
  },
  {
   "cell_type": "markdown",
   "metadata": {},
   "source": [
    "94.81% accuracy are pretty good. Let's examine the coefficients to see what we learn."
   ]
  },
  {
   "cell_type": "code",
   "execution_count": 244,
   "metadata": {},
   "outputs": [
    {
     "data": {
      "text/html": [
       "<div>\n",
       "<style scoped>\n",
       "    .dataframe tbody tr th:only-of-type {\n",
       "        vertical-align: middle;\n",
       "    }\n",
       "\n",
       "    .dataframe tbody tr th {\n",
       "        vertical-align: top;\n",
       "    }\n",
       "\n",
       "    .dataframe thead th {\n",
       "        text-align: right;\n",
       "    }\n",
       "</style>\n",
       "<table border=\"1\" class=\"dataframe\">\n",
       "  <thead>\n",
       "    <tr style=\"text-align: right;\">\n",
       "      <th></th>\n",
       "      <th>0</th>\n",
       "      <th>1</th>\n",
       "    </tr>\n",
       "  </thead>\n",
       "  <tbody>\n",
       "    <tr>\n",
       "      <th>0</th>\n",
       "      <td>total-unhalted_core_cycles</td>\n",
       "      <td>[5.10234856789497e-09]</td>\n",
       "    </tr>\n",
       "    <tr>\n",
       "      <th>1</th>\n",
       "      <td>total-instructions_retired</td>\n",
       "      <td>[1.7554019695662733e-09]</td>\n",
       "    </tr>\n",
       "    <tr>\n",
       "      <th>2</th>\n",
       "      <td>total-last_level_cache_references</td>\n",
       "      <td>[2.3296168995270942e-08]</td>\n",
       "    </tr>\n",
       "    <tr>\n",
       "      <th>3</th>\n",
       "      <td>total-memory_bus_transactions</td>\n",
       "      <td>[6.92139769298097e-07]</td>\n",
       "    </tr>\n",
       "    <tr>\n",
       "      <th>4</th>\n",
       "      <td>total-cpu-utilization</td>\n",
       "      <td>[-0.07051821642442117]</td>\n",
       "    </tr>\n",
       "    <tr>\n",
       "      <th>5</th>\n",
       "      <td>total-disk-accesses</td>\n",
       "      <td>[-0.004039622955504849]</td>\n",
       "    </tr>\n",
       "    <tr>\n",
       "      <th>6</th>\n",
       "      <td>total-disk-blocks</td>\n",
       "      <td>[-0.00034822437554911617]</td>\n",
       "    </tr>\n",
       "    <tr>\n",
       "      <th>7</th>\n",
       "      <td>total-disk-utilization</td>\n",
       "      <td>[0.02769741819027014]</td>\n",
       "    </tr>\n",
       "  </tbody>\n",
       "</table>\n",
       "</div>"
      ],
      "text/plain": [
       "                                   0                          1\n",
       "0         total-unhalted_core_cycles     [5.10234856789497e-09]\n",
       "1         total-instructions_retired   [1.7554019695662733e-09]\n",
       "2  total-last_level_cache_references   [2.3296168995270942e-08]\n",
       "3      total-memory_bus_transactions     [6.92139769298097e-07]\n",
       "4              total-cpu-utilization     [-0.07051821642442117]\n",
       "5                total-disk-accesses    [-0.004039622955504849]\n",
       "6                  total-disk-blocks  [-0.00034822437554911617]\n",
       "7             total-disk-utilization      [0.02769741819027014]"
      ]
     },
     "execution_count": 244,
     "metadata": {},
     "output_type": "execute_result"
    }
   ],
   "source": [
    "# examine the coefficients\n",
    "pd.DataFrame(zip(X.columns, np.transpose(model.coef_)))"
   ]
  },
  {
   "cell_type": "markdown",
   "metadata": {},
   "source": [
    "The first four features are associated with small coef. implying that they has little impact on the power consumption. The `total-disk-utilization` seems to have the most impact on the power (which makes sense)."
   ]
  },
  {
   "cell_type": "markdown",
   "metadata": {},
   "source": [
    "## Model Evaluation Using a Validation Set\n",
    "\n",
    "<i>Learning the parameters of a prediction function and testing it on the same data is a methodological mistake: a model that would just repeat the labels of the samples that it has just seen would have a perfect score but would fail to predict anything useful on yet-unseen data. This situation is called overfitting. To avoid it, it is common practice when performing a (supervised) machine learning experiment to hold out part of the available data as a test set X_test, y_test. Note that the word “experiment” is not intended to denote academic use only, because even in commercial settings machine learning usually starts out experimentally.</i>\n",
    "\n",
    "So far, we have trained and tested on the same set. Let's instead split the data into a training set and a testing set."
   ]
  },
  {
   "cell_type": "code",
   "execution_count": 254,
   "metadata": {},
   "outputs": [
    {
     "data": {
      "text/plain": [
       "LinearRegression(copy_X=True, fit_intercept=True, n_jobs=1, normalize=False)"
      ]
     },
     "execution_count": 254,
     "metadata": {},
     "output_type": "execute_result"
    }
   ],
   "source": [
    "# evaluate the model by splitting into train and test sets (70-30)\n",
    "X_train, X_test, y_train, y_test = train_test_split(X, y, test_size=0.3, random_state=0)\n",
    "model2 = LinearRegression()\n",
    "model2.fit(X_train, y_train)"
   ]
  },
  {
   "cell_type": "code",
   "execution_count": 255,
   "metadata": {},
   "outputs": [
    {
     "name": "stdout",
     "output_type": "stream",
     "text": [
      "[352.03756956 235.22189423 224.03963036 ... 227.77606598 231.28343736\n",
      " 226.41632718]\n"
     ]
    }
   ],
   "source": [
    "# predict class labels for the test set\n",
    "predicted = model2.predict(X_test)\n",
    "print predicted"
   ]
  },
  {
   "cell_type": "code",
   "execution_count": 259,
   "metadata": {},
   "outputs": [
    {
     "name": "stdout",
     "output_type": "stream",
     "text": [
      "('Coefficients: \\n', array([ 5.80780582e-09,  1.49311369e-09,  1.98236830e-08,  6.01646728e-07,\n",
      "       -6.97249386e-02, -3.45245314e-03, -3.66497908e-04,  2.82844944e-02]))\n",
      "Mean squared error: 31.28\n",
      "Variance score: 0.95\n"
     ]
    }
   ],
   "source": [
    "from sklearn.metrics import mean_squared_error, r2_score\n",
    "# The coefficients\n",
    "print('Coefficients: \\n', model2.coef_)\n",
    "# The mean squared error\n",
    "print(\"Mean squared error: %.2f\"\n",
    "      % mean_squared_error(y_test, predicted))\n",
    "# Explained variance score: 1 is perfect prediction\n",
    "print('Variance score: %.2f' % r2_score(y_test, predicted))"
   ]
  },
  {
   "cell_type": "markdown",
   "metadata": {},
   "source": [
    "The variance score(RSquare) is 95% which is really good"
   ]
  },
  {
   "cell_type": "code",
   "execution_count": 257,
   "metadata": {},
   "outputs": [
    {
     "data": {
      "image/png": "[encoded data removed]",
      "text/plain": [
       "<matplotlib.figure.Figure at 0x1a1c438a10>"
      ]
     },
     "metadata": {},
     "output_type": "display_data"
    }
   ],
   "source": [
    "fig, ax = plt.subplots()\n",
    "ax.scatter(y_test, predicted, edgecolors=(0, 0, 0))\n",
    "ax.plot([y_test.min(), y_test.max()], [y_test.min(), y_test.max()], 'k--', lw=4)\n",
    "ax.set_xlabel('Measured')\n",
    "ax.set_ylabel('Predicted')\n",
    "plt.show()"
   ]
  },
  {
   "cell_type": "markdown",
   "metadata": {},
   "source": [
    "The plot shows that the model predicts very well the ac power (the points are very close to the `perfect line`)"
   ]
  },
  {
   "cell_type": "markdown",
   "metadata": {},
   "source": [
    "## Cross-Validation\n",
    "<i>When evaluating different settings (“hyperparameters”) for estimators, \n",
    "there is still a risk of overfitting on the test set because the parameters \n",
    "can be tweaked until the estimator performs optimally. \n",
    "This way, knowledge about the test set can “leak” into the model and evaluation \n",
    "metrics no longer report on generalization performance. \n",
    "To solve this problem, yet another part of the dataset can be held out as a so-called “validation set”: \n",
    "    training proceeds on the training set, after which evaluation is done on the validation set, \n",
    "    and when the experiment seems to be successful, final evaluation can be done on the test set.\n",
    "\n",
    "However, by partitioning the available data into three sets, \n",
    "we drastically reduce the number of samples which can be used for learning the model, \n",
    "and the results can depend on a particular random choice for the pair of (train, validation) sets.\n",
    "\n",
    "A solution to this problem is a procedure called cross-validation (CV for short). \n",
    "A test set should still be held out for final evaluation, \n",
    "but the validation set is no longer needed when doing CV. \n",
    "In the basic approach, called k-fold CV, the training set is split into \n",
    "k smaller sets (other approaches are described below, but generally follow the same principles). \n",
    "The following procedure is followed for each of the k “folds”:\n",
    "\n",
    "        A model is trained using k-1 of the folds as training data;\n",
    "        the resulting model is validated on the remaining part of the data \n",
    "        (i.e., it is used as a test set to compute a performance measure such as accuracy).\n",
    "\n",
    "The performance measure reported by k-fold cross-validation is then the average of the values computed in the loop. This approach can be computationally expensive, but does not waste too much data (as it is the case when fixing an arbitrary test set), which is a major advantage in problem such as inverse inference where the number of samples is very small.</i>"
   ]
  },
  {
   "cell_type": "code",
   "execution_count": 263,
   "metadata": {},
   "outputs": [
    {
     "name": "stdout",
     "output_type": "stream",
     "text": [
      "Accuracy: 0.83 (+/- 0.51)\n"
     ]
    }
   ],
   "source": [
    "from sklearn.model_selection import cross_val_score\n",
    "scores = cross_val_score(model2, X, y, cv=10)\n",
    "print(\"Accuracy: %0.2f (+/- %0.2f)\" % (scores.mean(), scores.std() * 2))"
   ]
  },
  {
   "cell_type": "markdown",
   "metadata": {},
   "source": [
    "With 10-fold cross-validation, it's accuracy is 83%, which is quite good"
   ]
  },
  {
   "cell_type": "markdown",
   "metadata": {},
   "source": [
    "## Conclusion & Future Work\n",
    "\n",
    "In this showcase, I showed a typical Machine Learning algorithm (Linear Regression) in prediction of Power consumption. There are still rooms for improving this preditive model:\n",
    "* regularization techniques\n",
    "* using a non-linear model"
   ]
  },
  {
   "cell_type": "markdown",
   "metadata": {},
   "source": [
    "### THANK YOU!!!"
   ]
  }
 ],
 "metadata": {
  "kernelspec": {
   "display_name": "Python 2",
   "language": "python",
   "name": "python2"
  },
  "language_info": {
   "codemirror_mode": {
    "name": "ipython",
    "version": 2
   },
   "file_extension": ".py",
   "mimetype": "text/x-python",
   "name": "python",
   "nbconvert_exporter": "python",
   "pygments_lexer": "ipython2",
   "version": "2.7.14"
  }
 },
 "nbformat": 4,
 "nbformat_minor": 1
}
